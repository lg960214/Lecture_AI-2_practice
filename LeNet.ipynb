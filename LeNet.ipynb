{
 "cells": [
  {
   "cell_type": "code",
   "execution_count": 9,
   "metadata": {},
   "outputs": [],
   "source": [
    "import torch\n",
    "import torchvision\n",
    "from torchvision import datasets\n",
    "from torchvision import transforms \n",
    "from torch import nn\n",
    "from torch.utils.data import DataLoader\n"
   ]
  },
  {
   "cell_type": "code",
   "execution_count": 10,
   "metadata": {},
   "outputs": [],
   "source": [
    "data_transform = transforms.Compose([\n",
    "            transforms.Resize((32, 32)),\n",
    "            transforms.ToTensor(),\n",
    "])\n",
    "\n",
    "training_data = datasets.MNIST(\n",
    "    root=\"data\",\n",
    "    train=True,\n",
    "    download=False,\n",
    "    transform=data_transform,\n",
    ")\n",
    "\n",
    "# 공개 데이터셋에서 테스트 데이터를 내려받습니다.\n",
    "test_data = datasets.MNIST(\n",
    "    root=\"data\",\n",
    "    train=False,\n",
    "    download=False,\n",
    "    transform=data_transform,\n",
    ")"
   ]
  },
  {
   "cell_type": "code",
   "execution_count": 11,
   "metadata": {},
   "outputs": [
    {
     "name": "stdout",
     "output_type": "stream",
     "text": [
      "Shape of X [N, C, H, W]: torch.Size([64, 1, 32, 32])\n",
      "Shape of y: torch.Size([64]) torch.int64\n"
     ]
    }
   ],
   "source": [
    "batch_size = 64\n",
    "\n",
    "# 데이터로더를 생성합니다.\n",
    "train_dataloader = DataLoader(dataset=training_data,\n",
    "    batch_size=batch_size,\n",
    "    shuffle=True)\n",
    "test_dataloader = DataLoader(dataset=test_data, \n",
    "    batch_size=batch_size)\n",
    "\n",
    "for X, y in test_dataloader:\n",
    "    print(f\"Shape of X [N, C, H, W]: {X.shape}\")\n",
    "    print(f\"Shape of y: {y.shape} {y.dtype}\")\n",
    "    break"
   ]
  },
  {
   "cell_type": "code",
   "execution_count": 30,
   "metadata": {},
   "outputs": [
    {
     "data": {
      "image/png": "[encoded data removed]",
      "text/plain": [
       "<Figure size 432x288 with 1 Axes>"
      ]
     },
     "metadata": {
      "needs_background": "light"
     },
     "output_type": "display_data"
    }
   ],
   "source": [
    "import numpy as np\n",
    "import matplotlib.pyplot as plt\n",
    "import PIL\n",
    "from torchvision.transforms.functional import to_pil_image\n",
    "\n",
    "for batch_idx, (inputs, targets) in enumerate(train_dataloader):\n",
    "    plt.figure()\n",
    "    plt.subplot(1,2,1)\n",
    "    plt.imshow(to_pil_image(inputs[0]), cmap='gray')\n",
    "    plt.title('train')\n",
    "    break"
   ]
  },
  {
   "cell_type": "code",
   "execution_count": 4,
   "metadata": {},
   "outputs": [
    {
     "name": "stdout",
     "output_type": "stream",
     "text": [
      "Using cuda device\n",
      "NeuralNetwork(\n",
      "  (flatten): Flatten(start_dim=1, end_dim=-1)\n",
      "  (linear_relu_stack): Sequential(\n",
      "    (0): Linear(in_features=784, out_features=512, bias=True)\n",
      "    (1): ReLU()\n",
      "    (2): Linear(in_features=512, out_features=512, bias=True)\n",
      "    (3): ReLU()\n",
      "    (4): Linear(in_features=512, out_features=10, bias=True)\n",
      "  )\n",
      ")\n"
     ]
    }
   ],
   "source": [
    "# 학습에 사용할 CPU나 GPU 장치를 얻습니다.\n",
    "device = \"cuda\" if torch.cuda.is_available() else \"cpu\"\n",
    "print(f\"Using {device} device\")\n",
    "\n",
    "# 모델을 정의합니다.\n",
    "class NeuralNetwork(nn.Module):\n",
    "    def __init__(self):\n",
    "        super(NeuralNetwork, self).__init__()\n",
    "        self.flatten = nn.Flatten()\n",
    "        self.linear_relu_stack = nn.Sequential(\n",
    "            nn.Linear(28*28, 512),\n",
    "            nn.ReLU(),\n",
    "            nn.Linear(512, 512),\n",
    "            nn.ReLU(),\n",
    "            nn.Linear(512, 10)\n",
    "        )\n",
    "\n",
    "    def forward(self, x):\n",
    "        x = self.flatten(x)\n",
    "        logits = self.linear_relu_stack(x)\n",
    "        return logits\n",
    "\n",
    "model = NeuralNetwork().to(device)\n",
    "print(model)"
   ]
  },
  {
   "cell_type": "code",
   "execution_count": 5,
   "metadata": {},
   "outputs": [],
   "source": [
    "loss_fn = nn.CrossEntropyLoss()\n",
    "optimizer = torch.optim.SGD(model.parameters(), lr=1e-3)"
   ]
  },
  {
   "cell_type": "code",
   "execution_count": 6,
   "metadata": {},
   "outputs": [],
   "source": [
    "def train(dataloader, model, loss_fn, optimizer):\n",
    "    size = len(dataloader.dataset)\n",
    "    for batch, (X, y) in enumerate(dataloader):\n",
    "        X, y = X.to(device), y.to(device)\n",
    "\n",
    "        # 예측 오류 계산\n",
    "        pred = model(X)\n",
    "        loss = loss_fn(pred, y)\n",
    "\n",
    "        # 역전파\n",
    "        optimizer.zero_grad()\n",
    "        loss.backward()\n",
    "        optimizer.step()\n",
    "\n",
    "        if batch % 100 == 0:\n",
    "            loss, current = loss.item(), batch * len(X)\n",
    "            print(f\"loss: {loss:>7f}  [{current:>5d}/{size:>5d}]\")"
   ]
  },
  {
   "cell_type": "code",
   "execution_count": 7,
   "metadata": {},
   "outputs": [],
   "source": [
    "def test(dataloader, model, loss_fn):\n",
    "    size = len(dataloader.dataset)\n",
    "    num_batches = len(dataloader)\n",
    "    model.eval()\n",
    "    test_loss, correct = 0, 0\n",
    "    with torch.no_grad():\n",
    "        for X, y in dataloader:\n",
    "            X, y = X.to(device), y.to(device)\n",
    "            pred = model(X)\n",
    "            test_loss += loss_fn(pred, y).item()\n",
    "            correct += (pred.argmax(1) == y).type(torch.float).sum().item()\n",
    "    test_loss /= num_batches\n",
    "    correct /= size\n",
    "    print(f\"Test Error: \\n Accuracy: {(100*correct):>0.1f}%, Avg loss: {test_loss:>8f} \\n\")"
   ]
  },
  {
   "cell_type": "code",
   "execution_count": 8,
   "metadata": {},
   "outputs": [
    {
     "name": "stdout",
     "output_type": "stream",
     "text": [
      "Epoch 1\n",
      "-------------------------------\n",
      "loss: 2.303670  [    0/60000]\n",
      "loss: 2.301056  [ 6400/60000]\n",
      "loss: 2.301539  [12800/60000]\n",
      "loss: 2.290112  [19200/60000]\n",
      "loss: 2.287209  [25600/60000]\n",
      "loss: 2.286199  [32000/60000]\n",
      "loss: 2.266811  [38400/60000]\n",
      "loss: 2.288933  [44800/60000]\n",
      "loss: 2.266318  [51200/60000]\n",
      "loss: 2.252344  [57600/60000]\n",
      "Test Error: \n",
      " Accuracy: 46.7%, Avg loss: 2.256902 \n",
      "\n",
      "Epoch 2\n",
      "-------------------------------\n",
      "loss: 2.255552  [    0/60000]\n",
      "loss: 2.252667  [ 6400/60000]\n",
      "loss: 2.261606  [12800/60000]\n",
      "loss: 2.225046  [19200/60000]\n",
      "loss: 2.235263  [25600/60000]\n",
      "loss: 2.234912  [32000/60000]\n",
      "loss: 2.206037  [38400/60000]\n",
      "loss: 2.241807  [44800/60000]\n",
      "loss: 2.203204  [51200/60000]\n",
      "loss: 2.183715  [57600/60000]\n",
      "Test Error: \n",
      " Accuracy: 61.2%, Avg loss: 2.190518 \n",
      "\n",
      "Epoch 3\n",
      "-------------------------------\n",
      "loss: 2.188668  [    0/60000]\n",
      "loss: 2.181847  [ 6400/60000]\n",
      "loss: 2.201895  [12800/60000]\n",
      "loss: 2.131361  [19200/60000]\n",
      "loss: 2.156991  [25600/60000]\n",
      "loss: 2.154327  [32000/60000]\n",
      "loss: 2.107898  [38400/60000]\n",
      "loss: 2.162369  [44800/60000]\n",
      "loss: 2.100032  [51200/60000]\n",
      "loss: 2.070058  [57600/60000]\n",
      "Test Error: \n",
      " Accuracy: 67.6%, Avg loss: 2.078816 \n",
      "\n",
      "Epoch 4\n",
      "-------------------------------\n",
      "loss: 2.077491  [    0/60000]\n",
      "loss: 2.060454  [ 6400/60000]\n",
      "loss: 2.097036  [12800/60000]\n",
      "loss: 1.977440  [19200/60000]\n",
      "loss: 2.020277  [25600/60000]\n",
      "loss: 2.012332  [32000/60000]\n",
      "loss: 1.940022  [38400/60000]\n",
      "loss: 2.019895  [44800/60000]\n",
      "loss: 1.923830  [51200/60000]\n",
      "loss: 1.876205  [57600/60000]\n",
      "Test Error: \n",
      " Accuracy: 70.2%, Avg loss: 1.884777 \n",
      "\n",
      "Epoch 5\n",
      "-------------------------------\n",
      "loss: 1.888626  [    0/60000]\n",
      "loss: 1.850808  [ 6400/60000]\n",
      "loss: 1.908456  [12800/60000]\n",
      "loss: 1.730487  [19200/60000]\n",
      "loss: 1.785504  [25600/60000]\n",
      "loss: 1.767554  [32000/60000]\n",
      "loss: 1.673707  [38400/60000]\n",
      "loss: 1.787863  [44800/60000]\n",
      "loss: 1.652614  [51200/60000]\n",
      "loss: 1.586509  [57600/60000]\n",
      "Test Error: \n",
      " Accuracy: 72.1%, Avg loss: 1.589732 \n",
      "\n",
      "Done!\n"
     ]
    }
   ],
   "source": [
    "epochs = 5\n",
    "for t in range(epochs):\n",
    "    print(f\"Epoch {t+1}\\n-------------------------------\")\n",
    "    train(train_dataloader, model, loss_fn, optimizer)\n",
    "    test(test_dataloader, model, loss_fn)\n",
    "print(\"Done!\")"
   ]
  }
 ],
 "metadata": {
  "kernelspec": {
   "display_name": "Python 3.7.13 64-bit",
   "language": "python",
   "name": "python3"
  },
  "language_info": {
   "codemirror_mode": {
    "name": "ipython",
    "version": 3
   },
   "file_extension": ".py",
   "mimetype": "text/x-python",
   "name": "python",
   "nbconvert_exporter": "python",
   "pygments_lexer": "ipython3",
   "version": "3.7.13"
  },
  "orig_nbformat": 4,
  "vscode": {
   "interpreter": {
    "hash": "31f2aee4e71d21fbe5cf8b01ff0e069b9275f58929596ceb00d14d90e3e16cd6"
   }
  }
 },
 "nbformat": 4,
 "nbformat_minor": 2
}
